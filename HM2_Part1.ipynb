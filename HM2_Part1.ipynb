{
 "cells": [
  {
   "cell_type": "code",
   "execution_count": 12,
   "metadata": {},
   "outputs": [],
   "source": [
    "import pickle\n",
    "from nltk.util import ngrams\n",
    "from nltk import word_tokenize"
   ]
  },
  {
   "cell_type": "code",
   "execution_count": 13,
   "metadata": {},
   "outputs": [],
   "source": [
    "def create_bigram(file):\n",
    "    f = open(file, 'r')\n",
    "    text = f.read().rstrip('\\n')\n",
    "    unigrams = word_tokenize(text)\n",
    "    bigrams = list(ngrams(unigrams, 2))\n",
    "    unigram_count = {t:unigrams.count(t) for t in set(unigrams)}\n",
    "    bigram_count = {b:bigrams.count(b) for b in set(bigrams)}\n",
    "    \n",
    "    return unigram_count, bigram_count\n",
    "\n"
   ]
  },
  {
   "cell_type": "code",
   "execution_count": 14,
   "metadata": {},
   "outputs": [],
   "source": [
    "\n",
    "eng_unigram, eng_bigram = create_bigram('LangId.train.English.txt')\n",
    "ital_unigram, ital_bigram = create_bigram('LangId.train.Italian.txt')\n",
    "fr_unigram, fr_bigram = create_bigram('LangId.train.French.txt')\n",
    "pickle.dump(eng_unigram, open('eng_unigram_count.p', 'wb'))\n",
    "pickle.dump(eng_bigram, open('eng_bigram_count.p', 'wb'))\n",
    "pickle.dump(ital_unigram, open('ital_unigram_count.p', 'wb'))\n",
    "pickle.dump(ital_bigram, open('ital_bigram_count.p', 'wb'))\n",
    "pickle.dump(fr_unigram, open('fr_unigram_count.p', 'wb'))\n",
    "pickle.dump(fr_bigram, open('fr_bigram_count.p', 'wb'))\n",
    "\n",
    "\n"
   ]
  }
 ],
 "metadata": {
  "kernelspec": {
   "display_name": "Python 3",
   "language": "python",
   "name": "python3"
  },
  "language_info": {
   "codemirror_mode": {
    "name": "ipython",
    "version": 3
   },
   "file_extension": ".py",
   "mimetype": "text/x-python",
   "name": "python",
   "nbconvert_exporter": "python",
   "pygments_lexer": "ipython3",
   "version": "3.12.1"
  }
 },
 "nbformat": 4,
 "nbformat_minor": 2
}
