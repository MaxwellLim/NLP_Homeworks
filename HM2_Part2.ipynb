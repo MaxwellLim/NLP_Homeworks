{
 "cells": [
  {
   "cell_type": "code",
   "execution_count": 10,
   "metadata": {},
   "outputs": [],
   "source": [
    "import pickle\n",
    "from nltk.util import ngrams\n",
    "from nltk import word_tokenize\n"
   ]
  },
  {
   "cell_type": "code",
   "execution_count": 9,
   "metadata": {},
   "outputs": [],
   "source": [
    "eng_unigrams = pickle.load(open('eng_unigram_count.p', 'rb'))\n",
    "eng_bigrams = pickle.load(open('eng_bigram_count.p', 'rb'))\n",
    "ital_unigrams = pickle.load(open('ital_unigram_count.p', 'rb'))\n",
    "ital_bigrams = pickle.load(open('ital_bigram_count.p', 'rb'))\n",
    "fr_unigrams = pickle.load(open('fr_unigram_count.p', 'rb'))\n",
    "fr_bigrams = pickle.load(open('fr_bigram_count.p', 'rb'))\n"
   ]
  },
  {
   "cell_type": "code",
   "execution_count": 12,
   "metadata": {},
   "outputs": [],
   "source": [
    "def compute_prob(text, unigram_dict, bigram_dict):\n",
    "    # V is the vocabulary size in the training data (unique tokens)\n",
    "    V =  len(unigram_dict)\n",
    "    unigrams_test = word_tokenize(text)\n",
    "    bigrams_test = list(ngrams(unigrams_test, 2))\n",
    "    \n",
    "    p_laplace = 1  # calculate p using Laplace smoothing\n",
    "\n",
    "    for bigram in bigrams_test:\n",
    "        n = bigram_dict[bigram] if bigram in bigram_dict else 0\n",
    "        d = unigram_dict[bigram[0]] if bigram[0] in unigram_dict else 0\n",
    "        p_laplace = p_laplace * ((n + 1) / (d + V))\n",
    "\n",
    "    return p_laplace"
   ]
  },
  {
   "cell_type": "code",
   "execution_count": 23,
   "metadata": {},
   "outputs": [
    {
     "name": "stdout",
     "output_type": "stream",
     "text": [
      "Accuracy: 97.0%\n",
      "Incorrect cases: 24, 44, 87, 191, 220, 244, 262, 279, 297, "
     ]
    }
   ],
   "source": [
    "#open test files\n",
    "tests = open(\"LangId.test.txt\", 'r')\n",
    "solutions = open(\"LangId.sol.txt\", 'r')\n",
    "results = open(\"LangId.results.txt\", 'w')\n",
    "incorrect_guesses = []\n",
    "test_cases = []\n",
    "\n",
    "#read in each test case line by line\n",
    "for x in range(1,301):\n",
    "    test_cases.append((tests.readline().rstrip('\\n'), solutions.readline()))\n",
    "\n",
    "#Calculate the probabilities for each language and compare the best guess to the test case solution\n",
    "for case in test_cases:\n",
    "    eng_prob = compute_prob(case[0], eng_unigrams, eng_bigrams)\n",
    "    ital_prob = compute_prob(case[0], ital_unigrams, ital_bigrams)\n",
    "    fr_prob = compute_prob(case[0], fr_unigrams, fr_bigrams)\n",
    "    guess = \"\"\n",
    "    if eng_prob > ital_prob and eng_prob > fr_prob:\n",
    "        guess = \"English\\n\"\n",
    "    elif fr_prob > ital_prob:\n",
    "        guess = \"French\\n\"\n",
    "    else:\n",
    "        guess = \"Italian\\n\"\n",
    "    results.write(f\"{guess}\")\n",
    "    solution = case[1].split(\" \")\n",
    "    if guess != solution[1]:\n",
    "        incorrect_guesses.append(solution[0])\n",
    "        \n",
    "#calculating accuracy and printing it and outputing the incorrect guesses\n",
    "print(f\"Accuracy: {(1-len(incorrect_guesses)/300)*100}%\")\n",
    "print(\"Incorrect cases: \" ,end=\"\")\n",
    "for x in incorrect_guesses:\n",
    "    print(f\"{x}, \", end=\"\")\n",
    "\n"
   ]
  }
 ],
 "metadata": {
  "kernelspec": {
   "display_name": "Python 3",
   "language": "python",
   "name": "python3"
  },
  "language_info": {
   "codemirror_mode": {
    "name": "ipython",
    "version": 3
   },
   "file_extension": ".py",
   "mimetype": "text/x-python",
   "name": "python",
   "nbconvert_exporter": "python",
   "pygments_lexer": "ipython3",
   "version": "3.12.1"
  }
 },
 "nbformat": 4,
 "nbformat_minor": 2
}
